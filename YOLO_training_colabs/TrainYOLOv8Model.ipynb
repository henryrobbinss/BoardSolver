{
  "cells": [
    {
      "cell_type": "markdown",
      "metadata": {
        "id": "a_e_dBIY6_md"
      },
      "source": [
        "#Download Training Data [HERE](https://app.roboflow.com/projects-zidii/connect4/1)"
      ]
    },
    {
      "cell_type": "markdown",
      "metadata": {
        "id": "JsEo0lYR8zua"
      },
      "source": [
        "####Install YOLOv8 via pip"
      ]
    },
    {
      "cell_type": "code",
      "execution_count": null,
      "metadata": {
        "id": "bhwVp6rn7P3D"
      },
      "outputs": [],
      "source": [
        "%pip install ultralytics"
      ]
    },
    {
      "cell_type": "markdown",
      "metadata": {
        "id": "G9ERZCjS85bE"
      },
      "source": [
        "####Train YOLOv8 nano using the custom dataset\n",
        "\n",
        "Note you may have to change the data.yaml file to point to absolute paths containing the training data or change the YOLO config file to your home directory."
      ]
    },
    {
      "cell_type": "code",
      "execution_count": null,
      "metadata": {
        "id": "hJrlsSEx7-Qo"
      },
      "outputs": [],
      "source": [
        "from ultralytics import YOLO\n",
        "\n",
        "# Load the model.\n",
        "model = YOLO('yolov8n.pt')\n",
        "\n",
        "# Training\n",
        "results = model.train(\n",
        "   data='data.yaml',\n",
        "   imgsz=640,\n",
        "   epochs=50,\n",
        "   batch=8,\n",
        "   name='yolov8n_connect4'\n",
        "   )"
      ]
    }
  ],
  "metadata": {
    "colab": {
      "provenance": []
    },
    "kernelspec": {
      "display_name": "Python 3",
      "name": "python3"
    },
    "language_info": {
      "name": "python"
    }
  },
  "nbformat": 4,
  "nbformat_minor": 0
}
